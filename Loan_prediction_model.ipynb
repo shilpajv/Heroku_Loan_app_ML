{
 "cells": [
  {
   "cell_type": "code",
   "execution_count": 1,
   "metadata": {},
   "outputs": [],
   "source": [
    "import pandas as pd\n",
    "import sklearn\n",
    "from sklearn.model_selection import train_test_split,cross_val_score\n",
    "from sklearn.linear_model import LinearRegression, Lasso, Ridge\n",
    "import numpy as np\n",
    "\n",
    "\n",
    "loan_data  = pd.read_csv(\"https://raw.githubusercontent.com/dphi-official/Datasets/master/Loan_Data/loan_train.csv\" )\n",
    "\n",
    "\n",
    "%matplotlib inline\n"
   ]
  },
  {
   "cell_type": "code",
   "execution_count": 15,
   "metadata": {},
   "outputs": [
    {
     "data": {
      "text/html": [
       "<div>\n",
       "<style scoped>\n",
       "    .dataframe tbody tr th:only-of-type {\n",
       "        vertical-align: middle;\n",
       "    }\n",
       "\n",
       "    .dataframe tbody tr th {\n",
       "        vertical-align: top;\n",
       "    }\n",
       "\n",
       "    .dataframe thead th {\n",
       "        text-align: right;\n",
       "    }\n",
       "</style>\n",
       "<table border=\"1\" class=\"dataframe\">\n",
       "  <thead>\n",
       "    <tr style=\"text-align: right;\">\n",
       "      <th></th>\n",
       "      <th>Unnamed: 0</th>\n",
       "      <th>Loan_ID</th>\n",
       "      <th>Gender</th>\n",
       "      <th>Married</th>\n",
       "      <th>Dependents</th>\n",
       "      <th>Education</th>\n",
       "      <th>Self_Employed</th>\n",
       "      <th>ApplicantIncome</th>\n",
       "      <th>CoapplicantIncome</th>\n",
       "      <th>LoanAmount</th>\n",
       "      <th>Loan_Amount_Term</th>\n",
       "      <th>Credit_History</th>\n",
       "      <th>Property_Area</th>\n",
       "      <th>Loan_Status</th>\n",
       "    </tr>\n",
       "  </thead>\n",
       "  <tbody>\n",
       "    <tr>\n",
       "      <th>0</th>\n",
       "      <td>0</td>\n",
       "      <td>LP002305</td>\n",
       "      <td>Female</td>\n",
       "      <td>No</td>\n",
       "      <td>0</td>\n",
       "      <td>Graduate</td>\n",
       "      <td>No</td>\n",
       "      <td>4547</td>\n",
       "      <td>0.0</td>\n",
       "      <td>115.0</td>\n",
       "      <td>360.0</td>\n",
       "      <td>1.0</td>\n",
       "      <td>Semiurban</td>\n",
       "      <td>1</td>\n",
       "    </tr>\n",
       "    <tr>\n",
       "      <th>1</th>\n",
       "      <td>1</td>\n",
       "      <td>LP001715</td>\n",
       "      <td>Male</td>\n",
       "      <td>Yes</td>\n",
       "      <td>3+</td>\n",
       "      <td>Not Graduate</td>\n",
       "      <td>Yes</td>\n",
       "      <td>5703</td>\n",
       "      <td>0.0</td>\n",
       "      <td>130.0</td>\n",
       "      <td>360.0</td>\n",
       "      <td>1.0</td>\n",
       "      <td>Rural</td>\n",
       "      <td>1</td>\n",
       "    </tr>\n",
       "    <tr>\n",
       "      <th>2</th>\n",
       "      <td>2</td>\n",
       "      <td>LP002086</td>\n",
       "      <td>Female</td>\n",
       "      <td>Yes</td>\n",
       "      <td>0</td>\n",
       "      <td>Graduate</td>\n",
       "      <td>No</td>\n",
       "      <td>4333</td>\n",
       "      <td>2451.0</td>\n",
       "      <td>110.0</td>\n",
       "      <td>360.0</td>\n",
       "      <td>1.0</td>\n",
       "      <td>Urban</td>\n",
       "      <td>0</td>\n",
       "    </tr>\n",
       "    <tr>\n",
       "      <th>3</th>\n",
       "      <td>3</td>\n",
       "      <td>LP001136</td>\n",
       "      <td>Male</td>\n",
       "      <td>Yes</td>\n",
       "      <td>0</td>\n",
       "      <td>Not Graduate</td>\n",
       "      <td>Yes</td>\n",
       "      <td>4695</td>\n",
       "      <td>0.0</td>\n",
       "      <td>96.0</td>\n",
       "      <td>NaN</td>\n",
       "      <td>1.0</td>\n",
       "      <td>Urban</td>\n",
       "      <td>1</td>\n",
       "    </tr>\n",
       "    <tr>\n",
       "      <th>4</th>\n",
       "      <td>4</td>\n",
       "      <td>LP002529</td>\n",
       "      <td>Male</td>\n",
       "      <td>Yes</td>\n",
       "      <td>2</td>\n",
       "      <td>Graduate</td>\n",
       "      <td>No</td>\n",
       "      <td>6700</td>\n",
       "      <td>1750.0</td>\n",
       "      <td>230.0</td>\n",
       "      <td>300.0</td>\n",
       "      <td>1.0</td>\n",
       "      <td>Semiurban</td>\n",
       "      <td>1</td>\n",
       "    </tr>\n",
       "  </tbody>\n",
       "</table>\n",
       "</div>"
      ],
      "text/plain": [
       "   Unnamed: 0   Loan_ID  Gender Married Dependents     Education  \\\n",
       "0           0  LP002305  Female      No          0      Graduate   \n",
       "1           1  LP001715    Male     Yes         3+  Not Graduate   \n",
       "2           2  LP002086  Female     Yes          0      Graduate   \n",
       "3           3  LP001136    Male     Yes          0  Not Graduate   \n",
       "4           4  LP002529    Male     Yes          2      Graduate   \n",
       "\n",
       "  Self_Employed  ApplicantIncome  CoapplicantIncome  LoanAmount  \\\n",
       "0            No             4547                0.0       115.0   \n",
       "1           Yes             5703                0.0       130.0   \n",
       "2            No             4333             2451.0       110.0   \n",
       "3           Yes             4695                0.0        96.0   \n",
       "4            No             6700             1750.0       230.0   \n",
       "\n",
       "   Loan_Amount_Term  Credit_History Property_Area  Loan_Status  \n",
       "0             360.0             1.0     Semiurban            1  \n",
       "1             360.0             1.0         Rural            1  \n",
       "2             360.0             1.0         Urban            0  \n",
       "3               NaN             1.0         Urban            1  \n",
       "4             300.0             1.0     Semiurban            1  "
      ]
     },
     "execution_count": 15,
     "metadata": {},
     "output_type": "execute_result"
    }
   ],
   "source": [
    "ld=loan_data.copy()\n",
    "ld.head()"
   ]
  },
  {
   "cell_type": "markdown",
   "metadata": {},
   "source": [
    "##EDA"
   ]
  },
  {
   "cell_type": "code",
   "execution_count": 4,
   "metadata": {},
   "outputs": [
    {
     "name": "stdout",
     "output_type": "stream",
     "text": [
      "<class 'pandas.core.frame.DataFrame'>\n",
      "RangeIndex: 491 entries, 0 to 490\n",
      "Data columns (total 14 columns):\n",
      "Unnamed: 0           491 non-null int64\n",
      "Loan_ID              491 non-null object\n",
      "Gender               481 non-null object\n",
      "Married              490 non-null object\n",
      "Dependents           482 non-null object\n",
      "Education            491 non-null object\n",
      "Self_Employed        462 non-null object\n",
      "ApplicantIncome      491 non-null int64\n",
      "CoapplicantIncome    491 non-null float64\n",
      "LoanAmount           475 non-null float64\n",
      "Loan_Amount_Term     478 non-null float64\n",
      "Credit_History       448 non-null float64\n",
      "Property_Area        491 non-null object\n",
      "Loan_Status          491 non-null int64\n",
      "dtypes: float64(4), int64(3), object(7)\n",
      "memory usage: 53.8+ KB\n"
     ]
    }
   ],
   "source": [
    "ld.info()"
   ]
  },
  {
   "cell_type": "code",
   "execution_count": 6,
   "metadata": {},
   "outputs": [
    {
     "data": {
      "text/plain": [
       "1    343\n",
       "0    148\n",
       "Name: Loan_Status, dtype: int64"
      ]
     },
     "execution_count": 6,
     "metadata": {},
     "output_type": "execute_result"
    }
   ],
   "source": [
    "ld.Loan_Status.value_counts()"
   ]
  },
  {
   "cell_type": "code",
   "execution_count": 7,
   "metadata": {},
   "outputs": [
    {
     "data": {
      "text/plain": [
       "<matplotlib.axes._subplots.AxesSubplot at 0x20bd3edbcc0>"
      ]
     },
     "execution_count": 7,
     "metadata": {},
     "output_type": "execute_result"
    },
    {
     "data": {
      "image/png": "[encoded data removed]",
      "text/plain": [
       "<Figure size 432x288 with 1 Axes>"
      ]
     },
     "metadata": {
      "needs_background": "light"
     },
     "output_type": "display_data"
    }
   ],
   "source": [
    "ld.LoanAmount.hist()"
   ]
  },
  {
   "cell_type": "code",
   "execution_count": 9,
   "metadata": {},
   "outputs": [
    {
     "data": {
      "text/plain": [
       "array(['Graduate', 'Not Graduate'], dtype=object)"
      ]
     },
     "execution_count": 9,
     "metadata": {},
     "output_type": "execute_result"
    }
   ],
   "source": [
    "ld.Education.unique()"
   ]
  },
  {
   "cell_type": "code",
   "execution_count": 10,
   "metadata": {},
   "outputs": [
    {
     "data": {
      "text/plain": [
       "array(['No', 'Yes', nan], dtype=object)"
      ]
     },
     "execution_count": 10,
     "metadata": {},
     "output_type": "execute_result"
    }
   ],
   "source": [
    "ld.Self_Employed.unique()"
   ]
  },
  {
   "cell_type": "code",
   "execution_count": 11,
   "metadata": {},
   "outputs": [
    {
     "data": {
      "text/plain": [
       "array(['0', '3+', '2', '1', nan], dtype=object)"
      ]
     },
     "execution_count": 11,
     "metadata": {},
     "output_type": "execute_result"
    }
   ],
   "source": [
    "ld.Dependents.unique()"
   ]
  },
  {
   "cell_type": "code",
   "execution_count": 12,
   "metadata": {},
   "outputs": [
    {
     "data": {
      "text/plain": [
       "array([360.,  nan, 300., 180.,  84., 480., 240., 120.,  36.,  12.,  60.])"
      ]
     },
     "execution_count": 12,
     "metadata": {},
     "output_type": "execute_result"
    }
   ],
   "source": [
    "ld.Loan_Amount_Term.unique()"
   ]
  },
  {
   "cell_type": "code",
   "execution_count": 2,
   "metadata": {},
   "outputs": [],
   "source": [
    "categorical_columns = ['Gender', 'Married', 'Dependents', 'Education', 'Self_Employed', 'Property_Area','Credit_History','Loan_Amount_Term']\n",
    "numerical_columns =['ApplicantIncome', 'CoapplicantIncome', 'LoanAmount']\n"
   ]
  },
  {
   "cell_type": "code",
   "execution_count": 16,
   "metadata": {},
   "outputs": [],
   "source": [
    "ld.drop('Loan_ID',axis=1,inplace=True)"
   ]
  },
  {
   "cell_type": "code",
   "execution_count": 19,
   "metadata": {},
   "outputs": [
    {
     "data": {
      "image/png": "[encoded data removed]",
      "text/plain": [
       "<Figure size 864x1080 with 8 Axes>"
      ]
     },
     "metadata": {
      "needs_background": "light"
     },
     "output_type": "display_data"
    }
   ],
   "source": [
    "import seaborn as sns\n",
    "import matplotlib.pyplot as plt\n",
    "\n",
    "\n",
    "fig,axes = plt.subplots(4,2,figsize=(12,15))\n",
    "for idx,cat_col in enumerate(categorical_columns):\n",
    "    row,col = idx//2,idx%2\n",
    "    sns.countplot(x=cat_col,data=ld,hue='Loan_Status',ax=axes[row,col])\n",
    "\n",
    "\n",
    "plt.subplots_adjust(hspace=1)"
   ]
  },
  {
   "cell_type": "markdown",
   "metadata": {},
   "source": [
    " FROM ABOVE , we see that :\n",
    " 1. Married people are almost 2x in number and their chances of loan approved is also high. Also number of male applicants are   more.\n",
    " 2. zero dependents ,graduates residing in semi urban property  are having more loan approvals.\n",
    " 3. Applicant with credit history are far more likely to be accepted.\n",
    " 4. Loan Amount Term: Majority of the loans taken are for 360 Months (30 years).\n",
    "Majority of applicants are self employed and are males.\n"
   ]
  },
  {
   "cell_type": "code",
   "execution_count": 22,
   "metadata": {},
   "outputs": [
    {
     "data": {
      "text/plain": [
       "Text(0.5, 0.98, '')"
      ]
     },
     "execution_count": 22,
     "metadata": {},
     "output_type": "execute_result"
    },
    {
     "data": {
      "image/png": "[encoded data removed]",
      "text/plain": [
       "<Figure size 1152x360 with 2 Axes>"
      ]
     },
     "metadata": {
      "needs_background": "light"
     },
     "output_type": "display_data"
    },
    {
     "data": {
      "image/png": "[encoded data removed]",
      "text/plain": [
       "<Figure size 432x288 with 1 Axes>"
      ]
     },
     "metadata": {
      "needs_background": "light"
     },
     "output_type": "display_data"
    }
   ],
   "source": [
    "### NUMERICAL DATA\n",
    "plt.figure(1) \n",
    "plt.subplot(131) \n",
    "sns.distplot(ld['ApplicantIncome']); \n",
    "plt.subplot(132) \n",
    "ld['ApplicantIncome'].plot.box(figsize=(16,5)) \n",
    "ld.boxplot(column='ApplicantIncome', by = 'Education') \n",
    "plt.suptitle(\"\")"
   ]
  },
  {
   "cell_type": "markdown",
   "metadata": {},
   "source": [
    "Inferences :\n",
    "\n",
    "1.Income distribution is skewed to the left, hence normalisation would be required for better performance of the model.\n",
    "\n",
    "2 .Box plot shows that there are quite a few outliers who are mostly \"Graduate\""
   ]
  },
  {
   "cell_type": "code",
   "execution_count": 24,
   "metadata": {},
   "outputs": [],
   "source": [
    "\n",
    "bins_loan_amount=[0,100,200,700] \n",
    "group=['Low','Average','High'] \n",
    "ld['LoanAmount_buckets']=pd.cut(ld['LoanAmount'],bins_loan_amount,labels=group)"
   ]
  },
  {
   "cell_type": "code",
   "execution_count": 27,
   "metadata": {},
   "outputs": [],
   "source": [
    "\n",
    "LoanAmount_buckets=pd.crosstab(ld['LoanAmount_buckets'],ld['Loan_Status']) "
   ]
  },
  {
   "cell_type": "code",
   "execution_count": 29,
   "metadata": {},
   "outputs": [
    {
     "data": {
      "text/plain": [
       "LoanAmount_buckets\n",
       "Low        128\n",
       "Average    287\n",
       "High        60\n",
       "dtype: int64"
      ]
     },
     "execution_count": 29,
     "metadata": {},
     "output_type": "execute_result"
    }
   ],
   "source": [
    "LoanAmount_buckets.sum(1)"
   ]
  },
  {
   "cell_type": "code",
   "execution_count": 30,
   "metadata": {},
   "outputs": [
    {
     "data": {
      "image/png": "[encoded data removed]",
      "text/plain": [
       "<Figure size 432x288 with 1 Axes>"
      ]
     },
     "metadata": {
      "needs_background": "light"
     },
     "output_type": "display_data"
    }
   ],
   "source": [
    "LoanAmount_buckets.div(LoanAmount_buckets.sum(1).astype(float), axis=0).plot(kind=\"bar\", stacked=True) \n",
    "plt.xlabel('LoanAmount') \n",
    "P = plt.ylabel('Percentage')\n",
    "plt.show()"
   ]
  },
  {
   "cell_type": "markdown",
   "metadata": {},
   "source": [
    "Low and Average income people have higher percentage of loan approvals."
   ]
  },
  {
   "cell_type": "markdown",
   "metadata": {},
   "source": [
    "### FEATURE ENGINEERING \n",
    "We shall encode label 'Yes' to 1 and 'No' to 0|"
   ]
  },
  {
   "cell_type": "code",
   "execution_count": 17,
   "metadata": {},
   "outputs": [],
   "source": [
    "test_data = pd.read_csv('https://raw.githubusercontent.com/dphi-official/Datasets/master/Loan_Data/loan_test.csv')"
   ]
  },
  {
   "cell_type": "code",
   "execution_count": 18,
   "metadata": {},
   "outputs": [],
   "source": [
    "test_data.drop('Loan_ID',axis=1,inplace=True)"
   ]
  },
  {
   "cell_type": "code",
   "execution_count": 19,
   "metadata": {},
   "outputs": [],
   "source": [
    "### TREATING MISSING VALUES\n",
    "ld['Gender'].fillna(ld['Gender'].mode()[0],inplace=True)  ## male\n",
    "ld['Married'].fillna(ld['Married'].mode()[0], inplace=True) \n",
    "ld['Dependents'].fillna(ld['Dependents'].mode()[0], inplace=True) \n",
    "ld['Self_Employed'].fillna(ld['Self_Employed'].mode()[0], inplace=True) \n",
    "ld['Credit_History'].fillna(ld['Credit_History'].mode()[0], inplace=True)\n",
    "\n",
    "ld['Loan_Amount_Term'].fillna(ld['Loan_Amount_Term'].mode()[0], inplace=True)\n",
    "ld['LoanAmount'].fillna(ld['LoanAmount'].median(), inplace=True)  ## numerical column\n",
    "\n"
   ]
  },
  {
   "cell_type": "code",
   "execution_count": 20,
   "metadata": {},
   "outputs": [],
   "source": [
    "test_data['Gender'].fillna(test_data['Gender'].mode()[0],inplace=True)  \n",
    "test_data['Married'].fillna(test_data['Married'].mode()[0], inplace=True) \n",
    "test_data['Dependents'].fillna(test_data['Dependents'].mode()[0], inplace=True) \n",
    "test_data['Self_Employed'].fillna(test_data['Self_Employed'].mode()[0], inplace=True) \n",
    "test_data['Credit_History'].fillna(test_data['Credit_History'].mode()[0], inplace=True)\n",
    "\n",
    "test_data['Loan_Amount_Term'].fillna(test_data['Loan_Amount_Term'].mode()[0], inplace=True)\n",
    "test_data['LoanAmount'].fillna(test_data['LoanAmount'].median(), inplace=True)  ## numerical column"
   ]
  },
  {
   "cell_type": "code",
   "execution_count": 21,
   "metadata": {},
   "outputs": [],
   "source": [
    "##numerical encoding\n",
    "ld['Married']=ld[\"Married\"].map({'Yes':1,\"No\":0})\n",
    "test_data['Married']=test_data[\"Married\"].map({'Yes':1,\"No\":0})\n",
    "ld['Self_Employed']=ld['Self_Employed'].map({'Yes':1,\"No\":0})\n",
    "test_data['Self_Employed']=test_data['Self_Employed'].map({'Yes':1,\"No\":0})\n",
    "ld['Gender']=ld['Gender'].map({'Male':1,'Female':0})\n",
    "test_data['Gender']=test_data[\"Gender\"].map({'Male':1,\"Female\":0})\n",
    "#test_data['Education']=test_data['Education'].map({'Graduate':1,'Not Graduate':0})\n",
    "#ld['Education']=ld['Education'].map({'Graduate':1,'Not Graduate':0})\n",
    "ld['Property_Area']=ld['Property_Area'].map({'Urban':1,'Semiurban':2,'Rural':1})\n",
    "test_data['Property_Area']=test_data['Property_Area'].map({'Urban':1,'Semiurban':2,'Rural':1})"
   ]
  },
  {
   "cell_type": "code",
   "execution_count": 22,
   "metadata": {},
   "outputs": [],
   "source": [
    "ld['Dependents'].replace('3+', 3,inplace=True) \n",
    "test_data['Dependents'].replace('3+', 3,inplace=True) \n"
   ]
  },
  {
   "cell_type": "code",
   "execution_count": 23,
   "metadata": {},
   "outputs": [],
   "source": [
    "# One Hot Encoding\n",
    "ld1=pd.get_dummies(data=ld,columns=['Education'],prefix_sep='-',drop_first=True)\n",
    "test_Data1=pd.get_dummies(data=test_data,columns=['Education'],prefix_sep='-',drop_first=True)"
   ]
  },
  {
   "cell_type": "code",
   "execution_count": 24,
   "metadata": {},
   "outputs": [],
   "source": [
    "ld1.drop(['Unnamed: 0'],axis=1,inplace=True)"
   ]
  },
  {
   "cell_type": "code",
   "execution_count": 26,
   "metadata": {},
   "outputs": [
    {
     "data": {
      "text/html": [
       "<div>\n",
       "<style scoped>\n",
       "    .dataframe tbody tr th:only-of-type {\n",
       "        vertical-align: middle;\n",
       "    }\n",
       "\n",
       "    .dataframe tbody tr th {\n",
       "        vertical-align: top;\n",
       "    }\n",
       "\n",
       "    .dataframe thead th {\n",
       "        text-align: right;\n",
       "    }\n",
       "</style>\n",
       "<table border=\"1\" class=\"dataframe\">\n",
       "  <thead>\n",
       "    <tr style=\"text-align: right;\">\n",
       "      <th></th>\n",
       "      <th>Gender</th>\n",
       "      <th>Married</th>\n",
       "      <th>Dependents</th>\n",
       "      <th>Self_Employed</th>\n",
       "      <th>ApplicantIncome</th>\n",
       "      <th>CoapplicantIncome</th>\n",
       "      <th>LoanAmount</th>\n",
       "      <th>Loan_Amount_Term</th>\n",
       "      <th>Credit_History</th>\n",
       "      <th>Property_Area</th>\n",
       "      <th>Education-Not Graduate</th>\n",
       "    </tr>\n",
       "  </thead>\n",
       "  <tbody>\n",
       "    <tr>\n",
       "      <th>0</th>\n",
       "      <td>1</td>\n",
       "      <td>0</td>\n",
       "      <td>0</td>\n",
       "      <td>0</td>\n",
       "      <td>3748</td>\n",
       "      <td>1668.0</td>\n",
       "      <td>110.0</td>\n",
       "      <td>360.0</td>\n",
       "      <td>1.0</td>\n",
       "      <td>2</td>\n",
       "      <td>1</td>\n",
       "    </tr>\n",
       "    <tr>\n",
       "      <th>1</th>\n",
       "      <td>1</td>\n",
       "      <td>1</td>\n",
       "      <td>3</td>\n",
       "      <td>0</td>\n",
       "      <td>4000</td>\n",
       "      <td>7750.0</td>\n",
       "      <td>290.0</td>\n",
       "      <td>360.0</td>\n",
       "      <td>1.0</td>\n",
       "      <td>2</td>\n",
       "      <td>0</td>\n",
       "    </tr>\n",
       "    <tr>\n",
       "      <th>2</th>\n",
       "      <td>1</td>\n",
       "      <td>1</td>\n",
       "      <td>0</td>\n",
       "      <td>0</td>\n",
       "      <td>2625</td>\n",
       "      <td>6250.0</td>\n",
       "      <td>187.0</td>\n",
       "      <td>360.0</td>\n",
       "      <td>1.0</td>\n",
       "      <td>1</td>\n",
       "      <td>0</td>\n",
       "    </tr>\n",
       "    <tr>\n",
       "      <th>3</th>\n",
       "      <td>1</td>\n",
       "      <td>0</td>\n",
       "      <td>0</td>\n",
       "      <td>0</td>\n",
       "      <td>3902</td>\n",
       "      <td>1666.0</td>\n",
       "      <td>109.0</td>\n",
       "      <td>360.0</td>\n",
       "      <td>1.0</td>\n",
       "      <td>1</td>\n",
       "      <td>1</td>\n",
       "    </tr>\n",
       "    <tr>\n",
       "      <th>4</th>\n",
       "      <td>1</td>\n",
       "      <td>1</td>\n",
       "      <td>0</td>\n",
       "      <td>0</td>\n",
       "      <td>6096</td>\n",
       "      <td>0.0</td>\n",
       "      <td>218.0</td>\n",
       "      <td>360.0</td>\n",
       "      <td>0.0</td>\n",
       "      <td>1</td>\n",
       "      <td>1</td>\n",
       "    </tr>\n",
       "  </tbody>\n",
       "</table>\n",
       "</div>"
      ],
      "text/plain": [
       "   Gender  Married Dependents  Self_Employed  ApplicantIncome  \\\n",
       "0       1        0          0              0             3748   \n",
       "1       1        1          3              0             4000   \n",
       "2       1        1          0              0             2625   \n",
       "3       1        0          0              0             3902   \n",
       "4       1        1          0              0             6096   \n",
       "\n",
       "   CoapplicantIncome  LoanAmount  Loan_Amount_Term  Credit_History  \\\n",
       "0             1668.0       110.0             360.0             1.0   \n",
       "1             7750.0       290.0             360.0             1.0   \n",
       "2             6250.0       187.0             360.0             1.0   \n",
       "3             1666.0       109.0             360.0             1.0   \n",
       "4                0.0       218.0             360.0             0.0   \n",
       "\n",
       "   Property_Area  Education-Not Graduate  \n",
       "0              2                       1  \n",
       "1              2                       0  \n",
       "2              1                       0  \n",
       "3              1                       1  \n",
       "4              1                       1  "
      ]
     },
     "execution_count": 26,
     "metadata": {},
     "output_type": "execute_result"
    }
   ],
   "source": [
    "test_Data1.head(5)"
   ]
  },
  {
   "cell_type": "markdown",
   "metadata": {},
   "source": [
    "### MODEL BUILDING"
   ]
  },
  {
   "cell_type": "code",
   "execution_count": 27,
   "metadata": {},
   "outputs": [],
   "source": [
    "x = ld1.drop('Loan_Status',1)\n",
    "y = ld1.Loan_Status"
   ]
  },
  {
   "cell_type": "code",
   "execution_count": 28,
   "metadata": {},
   "outputs": [],
   "source": [
    "from sklearn.model_selection import train_test_split\n",
    "\n",
    "X_train,X_test,y_train,y_test = train_test_split(x,y,test_size=0.2,stratify =y,random_state =42)"
   ]
  },
  {
   "cell_type": "code",
   "execution_count": 29,
   "metadata": {},
   "outputs": [
    {
     "name": "stdout",
     "output_type": "stream",
     "text": [
      "Test F1 Score  0.8918918918918919\n",
      "Test Accuracy  0.8383838383838383\n",
      "Validation Mean F1 Score:  0.7082102563100736\n",
      "Validation Mean Accuracy:  0.806166828951639\n"
     ]
    }
   ],
   "source": [
    "from sklearn.metrics import f1_score,accuracy_score\n",
    "from sklearn.ensemble import RandomForestClassifier\n",
    "rf_clf = RandomForestClassifier(n_estimators=100,max_depth=3,min_samples_leaf = 10)\n",
    "rf_clf.fit(X_train,y_train)\n",
    "y_pred = rf_clf.predict(X_test)\n",
    "print(\"Test F1 Score \", f1_score(y_test,y_pred))\n",
    "print(\"Test Accuracy \", accuracy_score(y_test,y_pred))\n",
    "\n",
    "print(\"Validation Mean F1 Score: \",cross_val_score(rf_clf,X_train,y_train,cv=5,scoring='f1_macro').mean())\n",
    "print(\"Validation Mean Accuracy: \",cross_val_score(rf_clf,X_train,y_train,cv=5,scoring='accuracy').mean())"
   ]
  },
  {
   "cell_type": "code",
   "execution_count": 30,
   "metadata": {},
   "outputs": [],
   "source": [
    "from sklearn.linear_model import LogisticRegression\n",
    "params={'class_weight':['balanced',None],\n",
    "'penalty':['l1','l2'],\n",
    "'C':np.linspace(0.0001,1000,10)}\n",
    "# we can certainly try much higher ranges\n",
    "model=LogisticRegression(fit_intercept=True)"
   ]
  },
  {
   "cell_type": "code",
   "execution_count": 32,
   "metadata": {},
   "outputs": [
    {
     "name": "stderr",
     "output_type": "stream",
     "text": [
      "C:\\Users\\kshor.jadhav\\AppData\\Local\\Continuum\\anaconda3\\lib\\site-packages\\sklearn\\linear_model\\_logistic.py:764: ConvergenceWarning: lbfgs failed to converge (status=1):\n",
      "STOP: TOTAL NO. of ITERATIONS REACHED LIMIT.\n",
      "\n",
      "Increase the number of iterations (max_iter) or scale the data as shown in:\n",
      "    https://scikit-learn.org/stable/modules/preprocessing.html\n",
      "Please also refer to the documentation for alternative solver options:\n",
      "    https://scikit-learn.org/stable/modules/linear_model.html#logistic-regression\n",
      "  extra_warning_msg=_LOGISTIC_SOLVER_CONVERGENCE_MSG)\n"
     ]
    },
    {
     "data": {
      "text/plain": [
       "GridSearchCV(cv=10, estimator=LogisticRegression(), n_jobs=-1,\n",
       "             param_grid={'C': array([1.000000e-04, 1.111112e+02, 2.222223e+02, 3.333334e+02,\n",
       "       4.444445e+02, 5.555556e+02, 6.666667e+02, 7.777778e+02,\n",
       "       8.888889e+02, 1.000000e+03]),\n",
       "                         'class_weight': ['balanced', None],\n",
       "                         'penalty': ['l1', 'l2']},\n",
       "             scoring='f1_macro')"
      ]
     },
     "execution_count": 32,
     "metadata": {},
     "output_type": "execute_result"
    }
   ],
   "source": [
    "from sklearn.model_selection import GridSearchCV\n",
    "grid_search=GridSearchCV(model,param_grid=params,cv=10,scoring=\"f1_macro\",n_jobs=-1)\n",
    "grid_search.fit(X_train,y_train)"
   ]
  },
  {
   "cell_type": "code",
   "execution_count": 33,
   "metadata": {},
   "outputs": [
    {
     "name": "stdout",
     "output_type": "stream",
     "text": [
      "Test F1 Score  0.8904109589041096\n",
      "Test Accuracy  0.8383838383838383\n"
     ]
    }
   ],
   "source": [
    "lr=grid_search.best_estimator_\n",
    "y_pred=lr.predict(X_test)\n",
    "print(\"Test F1 Score \", f1_score(y_test,y_pred))\n",
    "print(\"Test Accuracy \", accuracy_score(y_test,y_pred))\n",
    "\n"
   ]
  },
  {
   "cell_type": "code",
   "execution_count": 38,
   "metadata": {},
   "outputs": [],
   "source": [
    "Y_pred=lr.predict(test_Data1)\n",
    "res = pd.DataFrame(Y_pred) #preditcions are nothing but the final predictions of your model on input features of your new unseen test data\n",
    "res.index =test_Data1.index # its important for comparison. Here \"test_new\" is your new test dataset\n",
    "res.columns = [\"prediction\"]\n",
    "#res.to_csv(\"prediction_results.csv\", index = False)      # the csv file will be saved locally on the same location where this notebook is located."
   ]
  },
  {
   "cell_type": "code",
   "execution_count": 39,
   "metadata": {},
   "outputs": [
    {
     "data": {
      "text/plain": [
       "(123, 11)"
      ]
     },
     "execution_count": 39,
     "metadata": {},
     "output_type": "execute_result"
    }
   ],
   "source": [
    "test_Data1.shape"
   ]
  },
  {
   "cell_type": "code",
   "execution_count": 35,
   "metadata": {},
   "outputs": [],
   "source": [
    "import pickle\n",
    "pickle.dump(lr, open('model.pkl','wb'))\n"
   ]
  },
  {
   "cell_type": "code",
   "execution_count": 52,
   "metadata": {},
   "outputs": [],
   "source": [
    "\n",
    "model_columns = list(x.columns)\n",
    "pickle.dump(model_columns,open('model_columns.pkl','wb'))"
   ]
  },
  {
   "cell_type": "code",
   "execution_count": 37,
   "metadata": {},
   "outputs": [
    {
     "name": "stdout",
     "output_type": "stream",
     "text": [
      "LogisticRegression(C=111.11120000000001)\n",
      "done\n"
     ]
    }
   ],
   "source": [
    "import pickle\n",
    "import numpy as np\n",
    "import pandas as pd\n",
    "\n",
    "model = pickle.load(open(\"model.pkl\", \"rb\"))\n",
    "print(model)\n",
    "print('done')"
   ]
  },
  {
   "cell_type": "code",
   "execution_count": 55,
   "metadata": {},
   "outputs": [
    {
     "name": "stdout",
     "output_type": "stream",
     "text": [
      "   Credit_History  Dependents Education  Gender  LoanAmount  Loan_Amount_Term  \\\n",
      "0               0           0  Graduate       0       20000                36   \n",
      "\n",
      "   Married  Property_Area  Self_Employed  income1  income2  \n",
      "0        1              1              1   400000    29999  \n",
      "Shape of dATAFRAME (1, 11)\n",
      "Dummification for one feature\n",
      "Dummification for one feature\n",
      "   Credit_History  Dependents  Gender  LoanAmount  Loan_Amount_Term  Married  \\\n",
      "0               0           0       0       20000                36        1   \n",
      "\n",
      "   Property_Area  Self_Employed  income1  income2  Education-Graduate  \n",
      "0              1              1   400000    29999                   1  \n",
      "   Credit_History  Dependents  Gender  LoanAmount  Loan_Amount_Term  Married  \\\n",
      "0               0           0       0       20000                36        1   \n",
      "\n",
      "   Property_Area  Self_Employed  income1  income2  Education_Graduate  \n",
      "0              1              1   400000    29999                   1  \n",
      "After dummification : (1, 11)\n",
      "[[     0      0      0  20000     36      1      1      1 400000  29999\n",
      "       1]]\n",
      "(1, 11)\n"
     ]
    }
   ],
   "source": [
    "input_data=[{\n",
    "    'income1':400000,\n",
    "    'income2':29999,\n",
    "    'LoanAmount':20000,\n",
    "    'Loan_Amount_Term':36,\n",
    "    'Dependents': 0,\n",
    "    'Credit_History':0,\n",
    "    'Self_Employed':1,\n",
    "    'Property_Area':1,\n",
    "    'Education':'Graduate',\n",
    "    'Married':1,\n",
    "    'Gender':0\n",
    "    }]\n",
    "\n",
    "\n",
    "dataset=pd.DataFrame(input_data)\n",
    "print(dataset)\n",
    "print('Shape of dATAFRAME', dataset.shape)\n",
    "#model_columns = pickle.load(open(\"model_columns.pkl\",\"rb\"))\n",
    "#int_features = [x for x in request.form.values()]\n",
    "print('Dummification for one feature')\n",
    "print('Dummification for one feature')\n",
    "query = pd.get_dummies(data=dataset,columns=['Education'],prefix_sep='-')\n",
    "print(query)\n",
    "#query = query.reindex(columns=model_columns, fill_value=0)\n",
    "query = pd.get_dummies(data=dataset,columns=['Education'])\n",
    "print(query)\n",
    "print('After dummification :',query.shape)\n",
    "final_features = np.array(query)\n",
    "print(final_features)\n",
    "print(final_features.shape)\n",
    "prediction = model.predict(final_features)"
   ]
  },
  {
   "cell_type": "code",
   "execution_count": 53,
   "metadata": {},
   "outputs": [
    {
     "data": {
      "text/plain": [
       "1"
      ]
     },
     "execution_count": 53,
     "metadata": {},
     "output_type": "execute_result"
    }
   ],
   "source": [
    "prediction[0]"
   ]
  },
  {
   "cell_type": "code",
   "execution_count": null,
   "metadata": {},
   "outputs": [],
   "source": []
  }
 ],
 "metadata": {
  "kernelspec": {
   "display_name": "Python 3",
   "language": "python",
   "name": "python3"
  },
  "language_info": {
   "codemirror_mode": {
    "name": "ipython",
    "version": 3
   },
   "file_extension": ".py",
   "mimetype": "text/x-python",
   "name": "python",
   "nbconvert_exporter": "python",
   "pygments_lexer": "ipython3",
   "version": "3.7.3"
  }
 },
 "nbformat": 4,
 "nbformat_minor": 2
}
